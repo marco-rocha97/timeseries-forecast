{
 "cells": [
  {
   "cell_type": "markdown",
   "id": "8acc508b",
   "metadata": {},
   "source": [
    "# Sales Forecast Project"
   ]
  },
  {
   "cell_type": "markdown",
   "id": "96290a62",
   "metadata": {},
   "source": [
    "## Understanding Data"
   ]
  },
  {
   "cell_type": "code",
   "execution_count": null,
   "id": "d029da1e",
   "metadata": {},
   "outputs": [],
   "source": [
    "import pandas as pd\n",
    "import numpy as np\n",
    "from matplotlib import pyplot as plt\n",
    "import seaborn as sns\n",
    "from sklearn.metrics import mean_absolute_error, mean_squared_error, mean_absolute_percentage_error"
   ]
  },
  {
   "cell_type": "code",
   "execution_count": null,
   "id": "9551f8d0",
   "metadata": {},
   "outputs": [],
   "source": [
    "df = pd.read_csv(\"sales.csv\", sep=\";\")\n",
    "\n",
    "df = (\n",
    "    df.rename(columns={\"Posting Date\": \"date\"})\n",
    "      .rename(columns=str.lower)\n",
    ")\n",
    "\n",
    "df.head()"
   ]
  },
  {
   "cell_type": "code",
   "execution_count": null,
   "id": "df50ea38",
   "metadata": {},
   "outputs": [],
   "source": [
    "df.info()"
   ]
  },
  {
   "cell_type": "code",
   "execution_count": null,
   "id": "051bdaab",
   "metadata": {},
   "outputs": [],
   "source": [
    "# Data Preparation\n",
    "df['date'] = pd.to_datetime(df['date'], format='%d/%m/%Y')\n",
    "df['material'] = df['material'].astype(str)\n",
    "df['quantity'] = df['quantity'].astype(str).str.replace('.', '', regex=False).str.replace(',', '.', regex=False)\n",
    "df['quantity'] = pd.to_numeric(df['quantity'])\n",
    "\n",
    "# Removing negative and zero quantities (business rule)\n",
    "df = df[df['quantity'] > 0]\n",
    "\n",
    "df.info()"
   ]
  },
  {
   "cell_type": "code",
   "execution_count": null,
   "id": "9c044131",
   "metadata": {},
   "outputs": [],
   "source": [
    "df = df.groupby(['date', 'plant', 'material'], as_index=False)['quantity'].sum()\n",
    "\n",
    "df.set_index('date', inplace=True)\n",
    "\n",
    "df.head()"
   ]
  },
  {
   "cell_type": "code",
   "execution_count": null,
   "id": "678cacad",
   "metadata": {},
   "outputs": [],
   "source": [
    "df.info()"
   ]
  },
  {
   "cell_type": "code",
   "execution_count": null,
   "id": "3b8644bb",
   "metadata": {},
   "outputs": [],
   "source": [
    "# Filtering for plant 'loc30' and dropping unnecessary columns\n",
    "df = df[df['plant'] == 'loc30']\n",
    "df.drop(columns=['plant', 'material'], inplace=True)\n",
    "\n",
    "# Creating a copy of the cleaned DataFrame for final evaluation\n",
    "final_df = df.copy()\n",
    "\n",
    "# Resampling to daily frequency and filling missing dates with 0 sales (business rule)\n",
    "df = df.asfreq('D')\n",
    "df.fillna(0, inplace=True)\n",
    "\n",
    "# Splitting data into training and testing sets (80% train, 20% test)\n",
    "train_size = int(len(df) * 0.8)\n",
    "train, test = df.iloc[:train_size], df.iloc[train_size:]"
   ]
  },
  {
   "cell_type": "markdown",
   "id": "c0a03205",
   "metadata": {},
   "source": [
    "## Functions"
   ]
  },
  {
   "cell_type": "code",
   "execution_count": null,
   "id": "13ee8c7a",
   "metadata": {},
   "outputs": [],
   "source": [
    "def create_dashboard(df, model_name):\n",
    "    plt.figure(figsize=(12, 6))\n",
    "    sns.lineplot(data=df, x=df.index, y='quantity', label='Real', alpha=0.7)\n",
    "    sns.lineplot(data=df, x=df.index, y=f'{model_name} quantity', label='Forecast', alpha=0.7)\n",
    "    plt.title(f'{model_name} - Forecast vs Real')\n",
    "    plt.legend()\n",
    "    plt.xlim(left=df.index[0])\n",
    "    plt.tight_layout()\n",
    "    plt.show()"
   ]
  },
  {
   "cell_type": "code",
   "execution_count": null,
   "id": "dae2494e",
   "metadata": {},
   "outputs": [],
   "source": [
    "def evaluate_forecast(df, model_name):\n",
    "    \n",
    "    y_true = df[\"quantity\"]\n",
    "    y_pred = df[f\"{model_name} quantity\"]\n",
    "\n",
    "    mse = mean_squared_error(y_true, y_pred)\n",
    "    mae = mean_absolute_error(y_true, y_pred)\n",
    "    mape = mean_absolute_percentage_error(y_true, y_pred)\n",
    "\n",
    "    return f\"{model_name} - MSE: {mse:.2f} | MAE: {mae:.2f} | MAPE: {mape:.2f}%\", (mse, mae, mape)"
   ]
  },
  {
   "cell_type": "markdown",
   "id": "bd2cc2be",
   "metadata": {},
   "source": [
    "## Holt Winters Model"
   ]
  },
  {
   "cell_type": "code",
   "execution_count": null,
   "id": "25564465",
   "metadata": {},
   "outputs": [],
   "source": [
    "from statsmodels.tsa.holtwinters import ExponentialSmoothing"
   ]
  },
  {
   "cell_type": "code",
   "execution_count": null,
   "id": "1dc12062",
   "metadata": {},
   "outputs": [],
   "source": [
    "model_hw = ExponentialSmoothing(\n",
    "    train['quantity'], \n",
    "    seasonal='add', \n",
    "    seasonal_periods=7\n",
    ").fit()\n",
    "\n",
    "forecast_hw = model_hw.forecast(steps=len(test))"
   ]
  },
  {
   "cell_type": "code",
   "execution_count": null,
   "id": "12dcbc76",
   "metadata": {},
   "outputs": [],
   "source": [
    "forecast_hw = (\n",
    "    forecast_hw.rename(\"hw quantity\")\n",
    "               .to_frame()\n",
    "               .reset_index(names=\"date\")\n",
    "               .set_index(\"date\")\n",
    ")\n",
    "\n",
    "final_df = pd.concat([final_df, forecast_hw], axis=1, join='inner')\n",
    "\n",
    "final_df.head()"
   ]
  },
  {
   "cell_type": "code",
   "execution_count": null,
   "id": "cc699932",
   "metadata": {},
   "outputs": [],
   "source": [
    "create_dashboard(final_df, \"hw\")"
   ]
  },
  {
   "cell_type": "code",
   "execution_count": null,
   "id": "04b7b6ff",
   "metadata": {},
   "outputs": [],
   "source": [
    "evaluate_forecast(final_df, \"hw\")[0]"
   ]
  },
  {
   "cell_type": "markdown",
   "id": "d1e2c567",
   "metadata": {},
   "source": [
    "## Prophet Model"
   ]
  },
  {
   "cell_type": "code",
   "execution_count": null,
   "id": "4b78a313",
   "metadata": {},
   "outputs": [],
   "source": [
    "from prophet import Prophet"
   ]
  },
  {
   "cell_type": "code",
   "execution_count": null,
   "id": "1b9d8316",
   "metadata": {},
   "outputs": [],
   "source": [
    "df_prophet = df.copy()\n",
    "df_prophet = df_prophet.reset_index()\n",
    "df_prophet.columns = ['ds', 'y']\n",
    "\n",
    "train_prophet, test_prophet = df_prophet.iloc[:train_size], df_prophet.iloc[train_size:]\n",
    "\n",
    "model_prophet = Prophet(weekly_seasonality=True)\n",
    "model_prophet.fit(train_prophet)\n",
    "\n",
    "future = model_prophet.make_future_dataframe(periods=len(test_prophet), freq='D')\n",
    "forecast = model_prophet.predict(future)\n",
    "\n",
    "forecast_prophet = forecast[['ds', 'yhat']].tail(len(test_prophet))\n",
    "\n",
    "forecast_prophet.head()"
   ]
  },
  {
   "cell_type": "code",
   "execution_count": null,
   "id": "4ff9b9ae",
   "metadata": {},
   "outputs": [],
   "source": [
    "forecast_prophet = (\n",
    "    forecast_prophet.rename(columns={\"ds\": \"date\", \"yhat\": \"prophet quantity\"})\n",
    "                    .set_index(\"date\")\n",
    ")\n",
    "\n",
    "final_df = pd.concat([final_df, forecast_prophet], axis=1, join=\"inner\")\n",
    "\n",
    "final_df.head()"
   ]
  },
  {
   "cell_type": "code",
   "execution_count": null,
   "id": "4a5c0a51",
   "metadata": {},
   "outputs": [],
   "source": [
    "create_dashboard(final_df, \"prophet\")"
   ]
  },
  {
   "cell_type": "code",
   "execution_count": null,
   "id": "29256614",
   "metadata": {},
   "outputs": [],
   "source": [
    "evaluate_forecast(final_df, \"prophet\")[0]"
   ]
  },
  {
   "cell_type": "markdown",
   "id": "4980ef19",
   "metadata": {},
   "source": [
    "## ARIMA Model"
   ]
  },
  {
   "cell_type": "code",
   "execution_count": null,
   "id": "700ea17b",
   "metadata": {},
   "outputs": [],
   "source": [
    "from pmdarima import auto_arima"
   ]
  },
  {
   "cell_type": "code",
   "execution_count": null,
   "id": "9579458c",
   "metadata": {},
   "outputs": [],
   "source": [
    "model_arima=auto_arima(\n",
    "    train['quantity'],\n",
    "    seasonal=False,\n",
    "    stepwise=True\n",
    ")\n",
    "\n",
    "forecast_arima = model_arima.predict(n_periods=len(test))"
   ]
  },
  {
   "cell_type": "code",
   "execution_count": null,
   "id": "e177227b",
   "metadata": {},
   "outputs": [],
   "source": [
    "forecast_arima = (\n",
    "    forecast_arima.rename('arima quantity')\n",
    "                  .to_frame()\n",
    "                  .reset_index(names='date')\n",
    "                  .set_index('date')\n",
    ")\n",
    "\n",
    "final_df = pd.concat([final_df, forecast_arima], axis=1, join='inner')\n",
    "\n",
    "final_df.head()"
   ]
  },
  {
   "cell_type": "code",
   "execution_count": null,
   "id": "77567fbb",
   "metadata": {},
   "outputs": [],
   "source": [
    "create_dashboard(final_df, \"arima\")"
   ]
  },
  {
   "cell_type": "code",
   "execution_count": null,
   "id": "be919db3",
   "metadata": {},
   "outputs": [],
   "source": [
    "evaluate_forecast(final_df, \"arima\")[0]"
   ]
  },
  {
   "cell_type": "code",
   "execution_count": null,
   "id": "3b04d37c",
   "metadata": {},
   "outputs": [],
   "source": [
    "# Verifying Basic Statistics\n",
    "print(\"Series Statistics:\")\n",
    "print(train['quantity'].describe())\n",
    "\n",
    "# Verifying if there are many zeros\n",
    "zeros_pct = (train['quantity'] == 0).sum() / len(train) * 100\n",
    "print(f\"\\nZeros Percentage: {zeros_pct:.1f}%\")\n",
    "\n",
    "# Verifying current model\n",
    "print(f\"\\nSelected Modell: {model_arima.order}\")\n",
    "if hasattr(model_arima, 'seasonal_order'):\n",
    "    print(f\"Seasonal Order: {model_arima.seasonal_order}\")"
   ]
  },
  {
   "cell_type": "markdown",
   "id": "dcecdba5",
   "metadata": {},
   "source": [
    "## SARIMA Model"
   ]
  },
  {
   "cell_type": "code",
   "execution_count": null,
   "id": "59f38045",
   "metadata": {},
   "outputs": [],
   "source": [
    "from pmdarima import auto_arima"
   ]
  },
  {
   "cell_type": "code",
   "execution_count": null,
   "id": "8b75205a",
   "metadata": {},
   "outputs": [],
   "source": [
    "model_sarima=auto_arima(\n",
    "    train['quantity'],\n",
    "    seasonal=True,\n",
    "    m=7,\n",
    "    stepwise=True\n",
    ")\n",
    "\n",
    "forecast_sarima = model_sarima.predict(n_periods=len(test))"
   ]
  },
  {
   "cell_type": "code",
   "execution_count": null,
   "id": "b7bc0ffa",
   "metadata": {},
   "outputs": [],
   "source": [
    "forecast_sarima = (\n",
    "    forecast_sarima.rename('sarima quantity')\n",
    "                   .to_frame()\n",
    "                   .reset_index(names='date')\n",
    "                   .set_index('date')\n",
    ")\n",
    "\n",
    "final_df = pd.concat([final_df, forecast_sarima], axis=1, join='inner')\n",
    "\n",
    "final_df.head()"
   ]
  },
  {
   "cell_type": "code",
   "execution_count": null,
   "id": "9b8dd48d",
   "metadata": {},
   "outputs": [],
   "source": [
    "create_dashboard(final_df, \"sarima\")"
   ]
  },
  {
   "cell_type": "code",
   "execution_count": null,
   "id": "dcab03db",
   "metadata": {},
   "outputs": [],
   "source": [
    "evaluate_forecast(final_df, \"sarima\")[0]"
   ]
  },
  {
   "cell_type": "markdown",
   "id": "e2992763",
   "metadata": {},
   "source": [
    "## Models Comparison"
   ]
  },
  {
   "cell_type": "code",
   "execution_count": null,
   "id": "7549adab",
   "metadata": {},
   "outputs": [],
   "source": [
    "fig, axes = plt.subplots(2, 2, figsize=(15, 10))\n",
    "    \n",
    "models = ['hw quantity', 'prophet quantity', 'arima quantity', 'sarima quantity']\n",
    "model_names = ['Holt-Winters', 'Prophet', 'ARIMA', 'SARIMA']\n",
    "    \n",
    "for i, (model, name) in enumerate(zip(models, model_names)):\n",
    "    ax = axes[i//2, i%2]\n",
    "    ax.plot(final_df.index, final_df['quantity'], label='Real', alpha=0.7)\n",
    "    ax.plot(final_df.index, final_df[model], label='Forecast', alpha=0.7)\n",
    "    ax.set_title(f'{name} - Forecast vs Real')\n",
    "    ax.set_xlim(left=final_df.index[0])\n",
    "    ax.legend()\n",
    "    \n",
    "plt.tight_layout()\n",
    "plt.show()"
   ]
  },
  {
   "cell_type": "code",
   "execution_count": null,
   "id": "a3ada0bf",
   "metadata": {},
   "outputs": [],
   "source": [
    "print(f\"{'Model':<15}{'MSE':<12}{'MAE':<12}{'MAPE'}\")\n",
    "print(\"-\"*50)\n",
    "\n",
    "for model in [\"hw\", \"prophet\", \"arima\", \"sarima\"]:\n",
    "    mse, mae, mape = evaluate_forecast(final_df, model)[1]\n",
    "    model_name = model.upper().replace(\"HW\", \"Holt-Winters\")\n",
    "    print(f\"{model_name:<15}{mse:<12.1f}{mae:<12.1f}{mape:.1f}%\")"
   ]
  }
 ],
 "metadata": {
  "kernelspec": {
   "display_name": "venv",
   "language": "python",
   "name": "python3"
  },
  "language_info": {
   "codemirror_mode": {
    "name": "ipython",
    "version": 3
   },
   "file_extension": ".py",
   "mimetype": "text/x-python",
   "name": "python",
   "nbconvert_exporter": "python",
   "pygments_lexer": "ipython3",
   "version": "3.11.9"
  }
 },
 "nbformat": 4,
 "nbformat_minor": 5
}
